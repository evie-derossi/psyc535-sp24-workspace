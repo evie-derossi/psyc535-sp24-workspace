{
 "cells": [
  {
   "cell_type": "markdown",
   "metadata": {},
   "source": [
    "## Homework 4\n",
    "#### Name: Evie De Rossi\n",
    "#### Date: 02/11/24\n",
    "\n"
   ]
  },
  {
   "cell_type": "markdown",
   "metadata": {},
   "source": [
    "### Part 1 Problem 1:\n",
    "\n",
    "Using your last homework as a guide, create 2 functions: one that takes a list and returns the sum of the list, and the other that takes a list as input and returns its average '''(use a for loop for at least one of these, please!)'''\n",
    "\n",
    "Now, do the following tasks using your functions from above to help you:\n",
    "- create a function that returns the total sum of items in 3 inputted lists\n",
    "- create a function that returns the difference in the average value of any 2 inputted lists (always does first list - second list)\n",
    "- create a function that takes in 2 lists of numbers and returns 2 lists that have equal sums. Specifically, you should add a value to the list with the lower total sum such that the two sums are now equal\n",
    "\n",
    "Hint: You can return two items by simply putting a comma between them, e.g. return x, y"
   ]
  },
  {
   "cell_type": "code",
   "execution_count": 11,
   "metadata": {},
   "outputs": [
    {
     "data": {
      "text/plain": [
       "([1, 2, 3, 9], [4, 5, 6])"
      ]
     },
     "execution_count": 11,
     "metadata": {},
     "output_type": "execute_result"
    }
   ],
   "source": [
    "num_list : list[int] = [1, 2, 3, 4, 5, 6]\n",
    "\n",
    "\n",
    "def summer(inp_list: list[int]) -> int:\n",
    "    sum : int = 0\n",
    "    for num in inp_list:\n",
    "        sum += num\n",
    "    return sum\n",
    "\n",
    "\n",
    "def avger(inp_list: list[int]) -> int:\n",
    "    avg : int = 0\n",
    "    for num in inp_list:\n",
    "        avg += num\n",
    "    avg /= len(inp_list)\n",
    "    return avg\n",
    "\n",
    "\n",
    "def total3 (inp1: list[int], inp2: list[int], inp3: list[int]) -> int:\n",
    "    total_sum : int = 0\n",
    "    sum1 = summer(inp1)\n",
    "    sum2 = summer(inp2)\n",
    "    sum3 = summer(inp3)\n",
    "    total_sum += sum1\n",
    "    total_sum += sum2\n",
    "    total_sum += sum3\n",
    "    return total_sum\n",
    "\n",
    "\n",
    "def avgdifference(inp1: list[int], inp2: list[int]) -> int:\n",
    "    difference : int = 0\n",
    "    avg1 = avger(inp1)\n",
    "    avg2 = avger(inp2)\n",
    "    difference = avg1 - avg2\n",
    "    return difference\n",
    "\n",
    "\n",
    "def equal_sum(inp1: list[int], inp2: list[int]):\n",
    "    sum1 = summer(inp1)\n",
    "    sum2 = summer(inp2)\n",
    "    if sum1 < sum2:\n",
    "        difference = sum2 - sum1\n",
    "        inp1.append(difference)\n",
    "    elif sum2 < sum1:\n",
    "        difference = sum1 - sum2\n",
    "        inp2.append(difference)\n",
    "    return inp1, inp2\n",
    "\n",
    "\n",
    "\n",
    "summer(num_list)\n",
    "avger(num_list)\n",
    "total3([1,2,3], [4,5,6], [7,8,9,10])\n",
    "avgdifference([2,2,2],[3,3,3])\n",
    "equal_sum([1,2,3], [4,5,6])\n",
    "\n"
   ]
  },
  {
   "cell_type": "markdown",
   "metadata": {},
   "source": [
    "### Part 2 Problem 1:\n",
    "\n",
    "Using your hypotenuse homework assignment as a guide:\n",
    "- Create a function that calculates the distance between two points\n",
    "- Inputs should be x1, y1; x2, y2\n",
    "\n",
    "Pseudocode:\n",
    "- find the the difference between the two x values, between the 2 y values\n",
    "- treat these like the two sides of a triangle\n",
    "- find the length of the hypotenuse (aka the distance between these points)\n",
    "- return this value\n",
    "\n"
   ]
  },
  {
   "cell_type": "code",
   "execution_count": 3,
   "metadata": {},
   "outputs": [
    {
     "data": {
      "text/plain": [
       "7.211102550927978"
      ]
     },
     "execution_count": 3,
     "metadata": {},
     "output_type": "execute_result"
    }
   ],
   "source": [
    "def hypotenuse(side1, side2) -> float:\n",
    "    import math\n",
    "    hypot = math.hypot(side1, side2)\n",
    "    return hypot\n",
    "\n",
    "hypotenuse(4,6)"
   ]
  },
  {
   "cell_type": "markdown",
   "metadata": {},
   "source": [
    "Using your function from above:\n",
    "\n",
    "Create a game of battleship (just in your script, not in a function)\n",
    "- Choose a spot for your ship to be (an x and y coordinate)\n",
    "- Ask the user for an x and a y value\n",
    "- If they are within distance 3 from your value, they sunk your ship\n",
    "- Otherwise, tell them they are wrong, tell them how far away they are\n",
    "- Let them try until they sink your ship\n",
    "- If you'd like, you can add limits (board is only 25 x 25, for example) or you can tell them when they're getting hotter or colder, etc."
   ]
  },
  {
   "cell_type": "code",
   "execution_count": 18,
   "metadata": {},
   "outputs": [
    {
     "name": "stdout",
     "output_type": "stream",
     "text": [
      "Hello, welcome to Battleship. This board is 5x5 squares. \n",
      "You are wrong, you are -9.142135623730951 units away from the ship.\n"
     ]
    },
    {
     "ename": "ValueError",
     "evalue": "invalid literal for int() with base 10: ''",
     "output_type": "error",
     "traceback": [
      "\u001b[0;31m---------------------------------------------------------------------------\u001b[0m",
      "\u001b[0;31mValueError\u001b[0m                                Traceback (most recent call last)",
      "Cell \u001b[0;32mIn[18], line 7\u001b[0m\n\u001b[1;32m      5\u001b[0m \u001b[38;5;28mprint\u001b[39m(\u001b[38;5;124m\"\u001b[39m\u001b[38;5;124mHello, welcome to Battleship. This board is 5x5 squares. \u001b[39m\u001b[38;5;124m\"\u001b[39m)\n\u001b[1;32m      6\u001b[0m \u001b[38;5;28;01mwhile\u001b[39;00m ship \u001b[38;5;241m==\u001b[39m \u001b[38;5;28;01mFalse\u001b[39;00m:\n\u001b[0;32m----> 7\u001b[0m     guess_x \u001b[38;5;241m=\u001b[39m \u001b[38;5;28;43mint\u001b[39;49m\u001b[43m(\u001b[49m\u001b[38;5;28;43minput\u001b[39;49m\u001b[43m(\u001b[49m\u001b[38;5;124;43m\"\u001b[39;49m\u001b[38;5;124;43mPlease guess the x coordinate: \u001b[39;49m\u001b[38;5;124;43m\"\u001b[39;49m\u001b[43m)\u001b[49m\u001b[43m)\u001b[49m\n\u001b[1;32m      8\u001b[0m     guess_y \u001b[38;5;241m=\u001b[39m \u001b[38;5;28mint\u001b[39m(\u001b[38;5;28minput\u001b[39m(\u001b[38;5;124m\"\u001b[39m\u001b[38;5;124mPlease guess the y coordinate: \u001b[39m\u001b[38;5;124m\"\u001b[39m))\n\u001b[1;32m     10\u001b[0m     distance1 \u001b[38;5;241m=\u001b[39m hypotenuse(spot_x, spot_y)\n",
      "\u001b[0;31mValueError\u001b[0m: invalid literal for int() with base 10: ''"
     ]
    }
   ],
   "source": [
    "ship : bool = False\n",
    "spot_x: int = 4\n",
    "spot_y: int = 3\n",
    "\n",
    "print(\"Hello, welcome to Battleship. This board is 5x5 squares. \")\n",
    "while ship == False:\n",
    "    guess_x = int(input(\"Please guess the x coordinate: \"))\n",
    "    guess_y = int(input(\"Please guess the y coordinate: \"))\n",
    "\n",
    "    distance1 = hypotenuse(spot_x, spot_y)\n",
    "    distance2 = hypotenuse(guess_x, guess_y)\n",
    "    distance = distance1 - distance2\n",
    "    if 0 <= distance <= 3:\n",
    "        print(\"You sunk my ship!\")\n",
    "        ship = True\n",
    "    else:\n",
    "        print(\"You are wrong, you are \" + str(distance) +  \" units away from the ship.\")"
   ]
  }
 ],
 "metadata": {
  "kernelspec": {
   "display_name": "Python 3",
   "language": "python",
   "name": "python3"
  },
  "language_info": {
   "codemirror_mode": {
    "name": "ipython",
    "version": 3
   },
   "file_extension": ".py",
   "mimetype": "text/x-python",
   "name": "python",
   "nbconvert_exporter": "python",
   "pygments_lexer": "ipython3",
   "version": "3.12.1"
  }
 },
 "nbformat": 4,
 "nbformat_minor": 2
}

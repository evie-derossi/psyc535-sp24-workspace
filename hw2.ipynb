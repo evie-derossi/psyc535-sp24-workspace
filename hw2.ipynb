{
 "cells": [
  {
   "cell_type": "markdown",
   "metadata": {},
   "source": [
    "## hw2pr1.py\n",
    "#### Name:\n",
    "#### Date:\n",
    "\n",
    "'''Two-part assignment!'''\n",
    "Guess my number! \n",
    "- Choose a secret number that the users shall guess\n",
    "- Users have 3 guesses to get my number between 1-20\n",
    "- For each guess, tell me whether my number is correct, too high, or too low. Only give the user more guesses if they are wrong initially\n"
   ]
  },
  {
   "cell_type": "code",
   "execution_count": 11,
   "metadata": {},
   "outputs": [
    {
     "name": "stdout",
     "output_type": "stream",
     "text": [
      "Your guess is too low. Please guess again: \n",
      "Your guess is too low. Please guess again: \n",
      "Your guess is too high. Please guess again: \n",
      "Your guess is not in the designated range of 1-20. Please guess again.\n",
      "Your guess is not in the designated range of 1-20. Please guess again.\n",
      "Correct!\n"
     ]
    }
   ],
   "source": [
    "sec_num : int = 17\n",
    "guess : str = input(\"Guess a number between 1 and 20: \")\n",
    "guess = int(guess)\n",
    "correct : bool = False\n",
    "\n",
    "while correct == False:\n",
    "    if 20 > guess > sec_num:\n",
    "        print(\"Your guess is too high. Please guess again: \")\n",
    "        guess = input(\"Guess a number between 1 and 20: \")\n",
    "        guess = int(guess)\n",
    "    elif 0 < guess < sec_num:\n",
    "        print(\"Your guess is too low. Please guess again: \")\n",
    "        guess = input(\"Guess a number between 1 and 20: \")\n",
    "        guess = int(guess)\n",
    "    elif guess == sec_num:\n",
    "        print(\"Correct!\")\n",
    "        correct = True\n",
    "    else:\n",
    "        print(\"Your guess is not in the designated range of 1-20. Please guess again.\")\n",
    "        guess = input(\"Guess a number between 1 and 20: \")\n",
    "        guess = int(guess)"
   ]
  },
  {
   "cell_type": "markdown",
   "metadata": {},
   "source": [
    "Some help for a budding biologist:\n",
    "here, the user will input a DNA base\n",
    "- your task is to print the complementary base to them (A - T, G - C)\n",
    "- include a case for the scenario where the user enters something wrong!\n"
   ]
  },
  {
   "cell_type": "code",
   "execution_count": 17,
   "metadata": {},
   "outputs": [
    {
     "name": "stdout",
     "output_type": "stream",
     "text": [
      "Below is your original DNA strand: \n",
      "ATGCF\n",
      "Below is your complementary strand: \n",
      "TACG[missing or incorrect base]\n"
     ]
    }
   ],
   "source": [
    "DNA : str = input(\"Please input the DNA sequence\")\n",
    "complementary: str = \"\"\n",
    "\n",
    "for base in DNA:\n",
    "    if base == \"A\":\n",
    "        complementary += \"T\"\n",
    "    if base == \"T\":\n",
    "        complementary += \"A\"\n",
    "    if base == \"G\":\n",
    "        complementary += \"C\"\n",
    "    if base == \"C\":\n",
    "        complementary += \"G\"\n",
    "if base != \"A\" and \"T\" and \"G\" and \"C\":\n",
    "    complementary += \"[missing or incorrect base]\"\n",
    "print(\"Below is your original DNA strand: \")\n",
    "print(DNA)\n",
    "print(\"Below is your complementary strand: \")\n",
    "print(complementary)\n"
   ]
  },
  {
   "cell_type": "markdown",
   "metadata": {},
   "source": [
    "## hw2pr2.py\n",
    "#### Name:\n",
    "#### Date:\n",
    "#### two part problem!!\n",
    "\n",
    "Create a dog or cat to human age calculator. Problem taken from Creative\n",
    "Coding in Python, by Sheena Vaidyanathan\n",
    "\n",
    "things to note about dog ages:\n",
    "- 1st dog year = 12 human years\n",
    "- 2nd dog year = 24 human years\n",
    "- Add 4 years for every dog year after that\n",
    "\n",
    "things to note about cat ages:\n",
    "- 1st cat year = 15 human years\n",
    "- 2nd cat year = 24 human years \n",
    "- Add 4 years for every cat year after that\n",
    "\n",
    "Sample run:\n",
    "- Enter dog or cat: cat\n",
    "- Enter age of animal: 4\n",
    "- Human age of cat is 32\n"
   ]
  },
  {
   "cell_type": "code",
   "execution_count": 25,
   "metadata": {},
   "outputs": [
    {
     "name": "stdout",
     "output_type": "stream",
     "text": [
      "Your dog is 60 in human age.\n"
     ]
    }
   ],
   "source": [
    "dog_or_cat: str = input(\"Enter dog or cat: \")\n",
    "age : str = input(\"Enter age of animal: \")\n",
    "age = int(age)\n",
    "human_age : int = 0\n",
    "four_multiple : int = age - 2\n",
    "\n",
    "\n",
    "if dog_or_cat == \"cat\":\n",
    "    if age > 2:\n",
    "        human_age += 24\n",
    "        four_multiple *= 4\n",
    "        human_age += (human_age + four_multiple)\n",
    "        print(\"Your cat is \" + str(human_age) + \" in human age.\")\n",
    "    if age == 2:\n",
    "        print(\"Your cat is 24 in human age. \")\n",
    "    if age == 1:\n",
    "        print(\"Your cat is 15 in human age. \")\n",
    "\n",
    "else:\n",
    "    if age > 2:\n",
    "        human_age += 24\n",
    "        four_multiple *= 4\n",
    "        human_age += (human_age + four_multiple)\n",
    "        print(\"Your dog is \" + str(human_age) + \" in human age.\")\n",
    "    if age == 2:\n",
    "        print(\"Your dog is 24 in human age. \")\n",
    "    if age == 1:\n",
    "        print(\"Your dog is 12 in human age. \")"
   ]
  },
  {
   "cell_type": "markdown",
   "metadata": {},
   "source": [
    "Inspired by the show 'The Good Place': You are in charge of deciding where people go in the afterlife, and your options are either to send them to the 'The Good Place' or 'The Bad Place.' You have a list of people that are definitely bad. For everyone else, you must determine whether their overall goodness score is enough to let them into The Good Place. A score of over 1 thousand will get you into The Good Place.'''\n",
    "- Figure out what inputs you may need to collect to determine where people go\n",
    "- ^ This is entirely up to you! You can assign +/- points to certain life\n",
    "skills,achievements, etc. based on what you see fit\n",
    "- Make the necessary calculations/judgments\n",
    "- Tell the person (gently) where they end up\n",
    "- Definitely bad people (feel free to add names as you see fit):bad_list = ['Robot Devil', 'Dolores Umbridge', 'Dracula', 'Scar', 'Emperor\n",
    "Palpatine']\n"
   ]
  },
  {
   "cell_type": "code",
   "execution_count": 29,
   "metadata": {},
   "outputs": [
    {
     "name": "stdout",
     "output_type": "stream",
     "text": [
      "Unfortunately you did not meet the requirements for the Good Place. You will be going to the Bad Place.\n"
     ]
    }
   ],
   "source": [
    "bad_list : list[str] = ['Robot Devil', 'Dolores Umbridge', 'Dracula', 'Scar', 'Emperor']\n",
    "good_list : list[str] = [] \n",
    "min_good_place_score : float = 1000.0\n",
    "score : float = 0\n",
    "name : str = input(\"What is your name?: \")\n",
    "pt_Q1 : str = input(\"Have you ever helped someone in a time of need? Y or N: \")\n",
    "pt_Q2 : str =  input(\"Have you done a random act of kindness? Y or N: \")\n",
    "pt_Q3 : str =  input(\"Have you ever complimented someone? Y or N: \")\n",
    "pt_Q4 : str =  input(\"Have you ever made fun of someone? Y or N: \")\n",
    "pt_Q5 : str =  input(\"Have you ever hurt someone on purpose? Y or N: \")\n",
    "pt_Q6 : str =  input(\"Have you ever lied to someone? Y or N: \")\n",
    "\n",
    "\n",
    "if pt_Q1 == \"Y\":\n",
    "    score += 500\n",
    "if pt_Q2 == \"Y\":\n",
    "    score += 400\n",
    "if pt_Q3 == \"Y\":\n",
    "    score += 300\n",
    "if pt_Q4 == \"Y\":\n",
    "    score -= 100\n",
    "if pt_Q4 == \"N\":\n",
    "    score += 100\n",
    "if pt_Q5 == \"Y\":\n",
    "    score -= 500\n",
    "if pt_Q5 == \"N\":\n",
    "    score += 200\n",
    "if pt_Q6 == \"Y\":\n",
    "    score -= 300\n",
    "if pt_Q6 == \"N\":\n",
    "    score += 200\n",
    "\n",
    "if score >= min_good_place_score:\n",
    "    good_list.append(name)\n",
    "    print(\"Congratulations! You are going to the Good Place!!!\")\n",
    "else:\n",
    "    bad_list.append(name)\n",
    "    print(\"Unfortunately you did not meet the requirements for the Good Place. You will be going to the Bad Place.\")"
   ]
  },
  {
   "cell_type": "markdown",
   "metadata": {},
   "source": [
    "## hw2pr3.py\n",
    "#### Name:\n",
    "#### Date:\n",
    "\n",
    "\n",
    "The point of this problem is to help you get comfortable manipulating lists. Simply follow the steps below using code and print your final results as suggested.\n",
    "Create an empty list named numbers.\n",
    "- Add the numbers 5, 10, 15, 20, and 25 to the list in that order.\n",
    "- Print the list.\n",
    "- Insert the number 12 at index 2.\n",
    "- Remove the number 15 from the list.\n",
    "- Find and print the index of the number 20 in the list.\n",
    "- Check if the number 10 is present in the list and if so, move it to the back.\n",
    "- Print your final list\n",
    "\n",
    "\n",
    "Here's what your output should look like:\n",
    "[5, 10, 15, 20, 25]\n",
    "20 is now at index 3\n",
    "Our final list looks like: [5, 12, 20, 25, 10]\n"
   ]
  },
  {
   "cell_type": "code",
   "execution_count": 32,
   "metadata": {},
   "outputs": [
    {
     "name": "stdout",
     "output_type": "stream",
     "text": [
      "Index of 20 is 3\n",
      "[5, 12, 20, 25, 10]\n"
     ]
    }
   ],
   "source": [
    "numbers : list[int] = []\n",
    "\n",
    "numbers.append(5)\n",
    "numbers.append(10)\n",
    "numbers.append(15)\n",
    "numbers.append(20)\n",
    "numbers.append(25)\n",
    "print(numbers)\n",
    "\n",
    "numbers.insert(2, 12)\n",
    "numbers.remove(15)\n",
    "\n",
    "idx_20 = numbers.index(20)\n",
    "print(\"Index of 20 is \" + str(idx_20))\n",
    "\n",
    "if 10 in numbers:\n",
    "    numbers.remove(10)\n",
    "    numbers.append(10)\n",
    "\n",
    "\n",
    "print(numbers)"
   ]
  }
 ],
 "metadata": {
  "kernelspec": {
   "display_name": "Python 3",
   "language": "python",
   "name": "python3"
  },
  "language_info": {
   "codemirror_mode": {
    "name": "ipython",
    "version": 3
   },
   "file_extension": ".py",
   "mimetype": "text/x-python",
   "name": "python",
   "nbconvert_exporter": "python",
   "pygments_lexer": "ipython3",
   "version": "3.12.1"
  }
 },
 "nbformat": 4,
 "nbformat_minor": 2
}

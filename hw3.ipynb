{
 "cells": [
  {
   "cell_type": "markdown",
   "metadata": {},
   "source": [
    "## homework 3\n",
    "#### Name: Evie De Rossi\n",
    "#### Date: 2/5/2024\n"
   ]
  },
  {
   "cell_type": "markdown",
   "metadata": {},
   "source": [
    "## 1: Problem 1\n",
    "\n",
    "Extend your DNA base return problem from last week\n",
    "Now, the user can enter a DNA list as long as they want, e.g. AGCTATCG\n",
    "- You must return the corresponding complement for the set of bases\n",
    "- Print the final result all as a single string, e.g. 'TCGATAGC'\n",
    "Hint, an empty string is simply ''\n"
   ]
  },
  {
   "cell_type": "code",
   "execution_count": 1,
   "metadata": {},
   "outputs": [
    {
     "name": "stdout",
     "output_type": "stream",
     "text": [
      "Below is your original DNA strand: \n",
      "ACTGHSTFGKG\n",
      "Below is your complementary strand: \n",
      "TGACACC[missing or incorrect base]\n"
     ]
    }
   ],
   "source": [
    "DNA : str = input(\"Please input the DNA sequence\")\n",
    "complementary: str = \"\"\n",
    "\n",
    "for base in DNA:\n",
    "    if base == \"A\":\n",
    "        complementary += \"T\"\n",
    "    if base == \"T\":\n",
    "        complementary += \"A\"\n",
    "    if base == \"G\":\n",
    "        complementary += \"C\"\n",
    "    if base == \"C\":\n",
    "        complementary += \"G\"\n",
    "if base != \"A\" and base != \"T\" and base != \"G\" and base != \"C\":\n",
    "    complementary += \"[missing or incorrect base]\"\n",
    "print(\"Below is your original DNA strand: \")\n",
    "print(DNA)\n",
    "print(\"Below is your complementary strand: \")\n",
    "print(complementary)"
   ]
  },
  {
   "cell_type": "markdown",
   "metadata": {},
   "source": [
    "## 1: Problem 2\n",
    "\n",
    "You are cleaning up some code from a friend, and you see the following program:\n",
    "list1 = [3, 24, 17, 9, 36]\n",
    "print(list1)\n",
    "count = 0\n",
    "list2 = []\n",
    "total = len(list1)\n",
    "while count < total:\n",
    "print(list1[count] - 5)\n",
    "list2.append(list1[count] - 5)\n",
    "count += 1\n",
    "print(list2)\n",
    "math = 0\n",
    "for i in list2:\n",
    "math = math+i*2\n",
    "print(math)\n",
    "\n",
    "\n",
    "Your task is to figure out what this code is doing and to rewrite it more cleanlyand clearly. Justify your decisions as comments accompanying your code!\n"
   ]
  },
  {
   "cell_type": "code",
   "execution_count": 6,
   "metadata": {},
   "outputs": [
    {
     "name": "stdout",
     "output_type": "stream",
     "text": [
      "[3, 24, 17, 9, 36]\n",
      "[-2, 19, 12, 4, 31]\n",
      "[-4, 34, 58, 66, 128]\n"
     ]
    }
   ],
   "source": [
    "list1 = [3, 24, 17, 9, 36]\n",
    "count = 0\n",
    "list2 = []\n",
    "total = len(list1)\n",
    "list3 = []\n",
    "math = 0\n",
    "\n",
    "#i'm pretty sure the code is attempting to make a new list (list 2) that is subtracting 5 from each value in list one \n",
    "\n",
    "print(list1)\n",
    "\n",
    "while count < total:\n",
    "    list2.append(list1[count] - 5) #here i took out two lines. this now should makeit so your list 1 stays the same but you are adding to list 2 ur new value\n",
    "    count += 1 \n",
    "\n",
    "print(list2)\n",
    "\n",
    "\n",
    "for i in list2:  #this is now trying i think to update list 2 but it is not saving it as a list, i am goign to create a new one called list3\n",
    "    math = math + i * 2\n",
    "    list3.append(math)\n",
    "print(list3) #here i am printing list 3 instead of math so that we are not getting just one output"
   ]
  },
  {
   "cell_type": "markdown",
   "metadata": {},
   "source": [
    "## 2: Problem 1\n",
    "\n",
    "Create a factorial solver (without using the factorial function!)\n",
    "- Get the input of an integer\n",
    "- Print its factorial\n",
    "\n"
   ]
  },
  {
   "cell_type": "code",
   "execution_count": 4,
   "metadata": {},
   "outputs": [
    {
     "name": "stdout",
     "output_type": "stream",
     "text": [
      "720\n"
     ]
    }
   ],
   "source": [
    "number : str = input(\"Input the number: \")\n",
    "number = int(number)\n",
    "factorial : int = 1\n",
    "\n",
    "for idx in range(1, number + 1):\n",
    "    factorial *= idx\n",
    "\n",
    "print(factorial)"
   ]
  },
  {
   "cell_type": "markdown",
   "metadata": {},
   "source": [
    "## 2: Problem 2\n",
    "\n",
    "Find the sum and average value of a list of numbers\n",
    "\n",
    "I will provide a list below, but it should work regardless of the values in my_list (should work with any generic list of numbers)\n",
    "\n",
    "my_list = [1, 2, 3, 4, 5, 6]"
   ]
  },
  {
   "cell_type": "code",
   "execution_count": 18,
   "metadata": {},
   "outputs": [
    {
     "name": "stdout",
     "output_type": "stream",
     "text": [
      "21\n",
      "3.5\n"
     ]
    }
   ],
   "source": [
    "num_list : list[int] = [1, 2, 3, 4, 5, 6]\n",
    "sum : int = 0\n",
    "avg : int = 0\n",
    "\n",
    "for num in num_list:\n",
    "    sum += num\n",
    "print(sum)\n",
    "\n",
    "for num in num_list:\n",
    "    avg += num\n",
    "avg /= len(num_list)\n",
    "print(avg)"
   ]
  },
  {
   "cell_type": "markdown",
   "metadata": {},
   "source": [
    "## 3: Problem 1\n",
    "\n",
    "The goal: take in variable input from the user and put it all into a list\n",
    "-   Ask the user how many items they would like to enter\n",
    "- Take each item in one at a time and print at the end in one list\n",
    "- You can treat all input items as strings; no need to convert\n",
    "\n",
    "Sample run:\n",
    "How many items would you like to enter?: 2\n",
    "Item 1\n",
    "Enter your item: a\n",
    "Item 2\n",
    "Enter your item: 84\n",
    "Here is your list ['a', '84']\n"
   ]
  },
  {
   "cell_type": "code",
   "execution_count": 11,
   "metadata": {},
   "outputs": [
    {
     "ename": "KeyboardInterrupt",
     "evalue": "Interrupted by user",
     "output_type": "error",
     "traceback": [
      "\u001b[0;31m---------------------------------------------------------------------------\u001b[0m",
      "\u001b[0;31mKeyboardInterrupt\u001b[0m                         Traceback (most recent call last)",
      "Cell \u001b[0;32mIn[11], line 1\u001b[0m\n\u001b[0;32m----> 1\u001b[0m item_cnt_inpt : \u001b[38;5;28mint\u001b[39m \u001b[38;5;241m=\u001b[39m \u001b[38;5;28mint\u001b[39m(\u001b[38;5;28;43minput\u001b[39;49m\u001b[43m(\u001b[49m\u001b[38;5;124;43m\"\u001b[39;49m\u001b[38;5;124;43mHow many items would you like to input: \u001b[39;49m\u001b[38;5;124;43m\"\u001b[39;49m\u001b[43m)\u001b[49m)\n\u001b[1;32m      2\u001b[0m end_list \u001b[38;5;241m=\u001b[39m []\n\u001b[1;32m      3\u001b[0m count_idx : \u001b[38;5;28mint\u001b[39m \u001b[38;5;241m=\u001b[39m \u001b[38;5;241m0\u001b[39m\n",
      "File \u001b[0;32m~/Library/Python/3.12/lib/python/site-packages/ipykernel/kernelbase.py:1270\u001b[0m, in \u001b[0;36mKernel.raw_input\u001b[0;34m(self, prompt)\u001b[0m\n\u001b[1;32m   1268\u001b[0m     msg \u001b[38;5;241m=\u001b[39m \u001b[38;5;124m\"\u001b[39m\u001b[38;5;124mraw_input was called, but this frontend does not support input requests.\u001b[39m\u001b[38;5;124m\"\u001b[39m\n\u001b[1;32m   1269\u001b[0m     \u001b[38;5;28;01mraise\u001b[39;00m StdinNotImplementedError(msg)\n\u001b[0;32m-> 1270\u001b[0m \u001b[38;5;28;01mreturn\u001b[39;00m \u001b[38;5;28;43mself\u001b[39;49m\u001b[38;5;241;43m.\u001b[39;49m\u001b[43m_input_request\u001b[49m\u001b[43m(\u001b[49m\n\u001b[1;32m   1271\u001b[0m \u001b[43m    \u001b[49m\u001b[38;5;28;43mstr\u001b[39;49m\u001b[43m(\u001b[49m\u001b[43mprompt\u001b[49m\u001b[43m)\u001b[49m\u001b[43m,\u001b[49m\n\u001b[1;32m   1272\u001b[0m \u001b[43m    \u001b[49m\u001b[38;5;28;43mself\u001b[39;49m\u001b[38;5;241;43m.\u001b[39;49m\u001b[43m_parent_ident\u001b[49m\u001b[43m[\u001b[49m\u001b[38;5;124;43m\"\u001b[39;49m\u001b[38;5;124;43mshell\u001b[39;49m\u001b[38;5;124;43m\"\u001b[39;49m\u001b[43m]\u001b[49m\u001b[43m,\u001b[49m\n\u001b[1;32m   1273\u001b[0m \u001b[43m    \u001b[49m\u001b[38;5;28;43mself\u001b[39;49m\u001b[38;5;241;43m.\u001b[39;49m\u001b[43mget_parent\u001b[49m\u001b[43m(\u001b[49m\u001b[38;5;124;43m\"\u001b[39;49m\u001b[38;5;124;43mshell\u001b[39;49m\u001b[38;5;124;43m\"\u001b[39;49m\u001b[43m)\u001b[49m\u001b[43m,\u001b[49m\n\u001b[1;32m   1274\u001b[0m \u001b[43m    \u001b[49m\u001b[43mpassword\u001b[49m\u001b[38;5;241;43m=\u001b[39;49m\u001b[38;5;28;43;01mFalse\u001b[39;49;00m\u001b[43m,\u001b[49m\n\u001b[1;32m   1275\u001b[0m \u001b[43m\u001b[49m\u001b[43m)\u001b[49m\n",
      "File \u001b[0;32m~/Library/Python/3.12/lib/python/site-packages/ipykernel/kernelbase.py:1313\u001b[0m, in \u001b[0;36mKernel._input_request\u001b[0;34m(self, prompt, ident, parent, password)\u001b[0m\n\u001b[1;32m   1310\u001b[0m \u001b[38;5;28;01mexcept\u001b[39;00m \u001b[38;5;167;01mKeyboardInterrupt\u001b[39;00m:\n\u001b[1;32m   1311\u001b[0m     \u001b[38;5;66;03m# re-raise KeyboardInterrupt, to truncate traceback\u001b[39;00m\n\u001b[1;32m   1312\u001b[0m     msg \u001b[38;5;241m=\u001b[39m \u001b[38;5;124m\"\u001b[39m\u001b[38;5;124mInterrupted by user\u001b[39m\u001b[38;5;124m\"\u001b[39m\n\u001b[0;32m-> 1313\u001b[0m     \u001b[38;5;28;01mraise\u001b[39;00m \u001b[38;5;167;01mKeyboardInterrupt\u001b[39;00m(msg) \u001b[38;5;28;01mfrom\u001b[39;00m \u001b[38;5;28;01mNone\u001b[39;00m\n\u001b[1;32m   1314\u001b[0m \u001b[38;5;28;01mexcept\u001b[39;00m \u001b[38;5;167;01mException\u001b[39;00m:\n\u001b[1;32m   1315\u001b[0m     \u001b[38;5;28mself\u001b[39m\u001b[38;5;241m.\u001b[39mlog\u001b[38;5;241m.\u001b[39mwarning(\u001b[38;5;124m\"\u001b[39m\u001b[38;5;124mInvalid Message:\u001b[39m\u001b[38;5;124m\"\u001b[39m, exc_info\u001b[38;5;241m=\u001b[39m\u001b[38;5;28;01mTrue\u001b[39;00m)\n",
      "\u001b[0;31mKeyboardInterrupt\u001b[0m: Interrupted by user"
     ]
    }
   ],
   "source": [
    "item_cnt_inpt : int = int(input(\"How many items would you like to input: \"))\n",
    "end_list = []\n",
    "count_idx : int = 0\n",
    "\n",
    "while item_cnt_inpt > count_idx:\n",
    "    item_input: str = input(\"Please input item \" + str(count_idx + 1) + \": \")\n",
    "    end_list.append(item_input)\n",
    "    count_idx += 1\n",
    "\n",
    "print(end_list)"
   ]
  },
  {
   "cell_type": "markdown",
   "metadata": {},
   "source": [
    "## 3: Problem 2\n",
    "\n",
    "Create a program that takes the final list from part 1 and gives us a version of that list without any duplicates. Essentially, it prints out a new list including only the unique items\n",
    "\n",
    "\n",
    "Example:\n",
    "list_from_above = ['a', 'b', 'c', 'a', 'c', 'd']\n",
    "\n",
    "Your uniquified list is ['a', 'b', 'c', 'd']\n",
    "\n",
    "Hint: You can take advantage of the break or continue commands we learned for loops!\n"
   ]
  },
  {
   "cell_type": "code",
   "execution_count": 10,
   "metadata": {},
   "outputs": [
    {
     "name": "stdout",
     "output_type": "stream",
     "text": [
      "['1', '2', '3']\n"
     ]
    }
   ],
   "source": [
    "new_end_list = []\n",
    "for item in end_list:\n",
    "    if item not in new_end_list:\n",
    "        new_end_list.append(item)\n",
    "\n",
    "print(new_end_list)\n"
   ]
  }
 ],
 "metadata": {
  "kernelspec": {
   "display_name": "Python 3",
   "language": "python",
   "name": "python3"
  },
  "language_info": {
   "codemirror_mode": {
    "name": "ipython",
    "version": 3
   },
   "file_extension": ".py",
   "mimetype": "text/x-python",
   "name": "python",
   "nbconvert_exporter": "python",
   "pygments_lexer": "ipython3",
   "version": "3.12.1"
  }
 },
 "nbformat": 4,
 "nbformat_minor": 2
}

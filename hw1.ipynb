{
 "cells": [
  {
   "cell_type": "markdown",
   "metadata": {},
   "source": [
    "# hw1pr1.py\n",
    "### Name: Evie De Rossi\n",
    "### Date: 1/19/24\n",
    "This file has two parts! Make sure to do both\n",
    "## create a metric calculator"
   ]
  },
  {
   "cell_type": "code",
   "execution_count": null,
   "metadata": {},
   "outputs": [],
   "source": [
    "# pseudocode:\n",
    "# get inches from user\n",
    "# convert inches to centimeters (x 2.54)\n",
    "# print value in cm\n",
    "# get pounds from user\n",
    "# convert to kg (lbs / 2.2)\n",
    "# print value in kg\n"
   ]
  },
  {
   "cell_type": "code",
   "execution_count": 2,
   "metadata": {},
   "outputs": [
    {
     "name": "stdout",
     "output_type": "stream",
     "text": [
      "Your measurement is 30.48\n",
      "Your measurement is22.0\n"
     ]
    }
   ],
   "source": [
    "#convert inches to cm\n",
    "inches: str = input(\"How many inches is your measurement?: \")\n",
    "inches = float(inches)\n",
    "centi : float = inches * 2.54\n",
    "print(\"Your measurement is \" + str(centi) + \"pounds\")\n",
    "\n",
    "#convert lbs to kgs\n",
    "pounds : str = input(\"How much does your item weigh in pounds?: \")\n",
    "pounds = float(pounds)\n",
    "kg: float = pounds * 2.2\n",
    "print(\"Your measurement is \" + str(kg) + \"kilograms\")"
   ]
  },
  {
   "cell_type": "markdown",
   "metadata": {},
   "source": [
    "\n",
    "## create a restaurant bill calculator"
   ]
  },
  {
   "cell_type": "code",
   "execution_count": null,
   "metadata": {},
   "outputs": [],
   "source": [
    "# pseudocode:\n",
    "# get bill amount from user\n",
    "# get tip percentage from user\n",
    "# get number of people splitting the bill from user\n",
    "# calculate tip amount\n",
    "# calculate total bill amount\n",
    "# calculate tip amount per person (if split evenly)\n",
    "# calculate total bill value per person\n",
    "# print all values above in a neat manner"
   ]
  },
  {
   "cell_type": "code",
   "execution_count": 4,
   "metadata": {},
   "outputs": [
    {
     "name": "stdout",
     "output_type": "stream",
     "text": [
      "Your tip will be $2.0\n",
      "Your total bill amount is $12.0\n",
      "The tip will be $1.0 per person if split evenly\n",
      "The total bill will be $6.0per person if split evenly\n"
     ]
    }
   ],
   "source": [
    "bill_amnt = input(\"How much is your bill?: \")\n",
    "bill_amnt = float(bill_amnt)\n",
    "tip_prcnt = input(\"What percent would you like to tip?: \")\n",
    "tip_prcnt = float(tip_prcnt)\n",
    "num_ppl = input(\"How many people are splitting the bill?: \")\n",
    "num_ppl = int(num_ppl)\n",
    "\n",
    "#calculate and print tip amount\n",
    "tip_amnt = bill_amnt * (tip_prcnt/100)\n",
    "print(\"Your tip will be $\" + str(tip_amnt))\n",
    "\n",
    "#calculate total bill amount\n",
    "total_bill = bill_amnt + tip_amnt\n",
    "print(\"Your total bill amount is $\" + str(total_bill))\n",
    "\n",
    "#tip amount per person\n",
    "tip_per_p = tip_amnt / num_ppl\n",
    "print(\"The tip will be $\" + str(tip_per_p) + \" per person if split evenly\")\n",
    "\n",
    "#total bill value per person\n",
    "bill_per_p = total_bill / num_ppl\n",
    "print(\"The total bill will be $\" + str(bill_per_p) + \"per person if split evenly\")"
   ]
  },
  {
   "cell_type": "markdown",
   "metadata": {},
   "source": [
    "# hw1pr2.py\n",
    "### Name: Evie De Rossi\n",
    "### Date: 1/19/24\n",
    "Note that this file has two parts! Together, they further test your ability\n",
    "to manipulate mathematical functions and numbers, without psuedocode this time!\n"
   ]
  },
  {
   "cell_type": "code",
   "execution_count": 6,
   "metadata": {},
   "outputs": [],
   "source": [
    "# inverse function\n",
    "# takes an int or float n and prints the inverse 1/n\n",
    "# hypotenuse function\n",
    "# takes two triangle sides and finds the length of the hypotenuse\n",
    "# takes input a, b: any real numbers\n",
    "# for guidance on the Pythagorean Theorem, see\n",
    "# https://www.wikihow.com/Find-the-Length-of-the-Hypotenuse\n",
    "# NOTE: this bit of code requires the math package\n",
    "import math\n"
   ]
  },
  {
   "cell_type": "code",
   "execution_count": 8,
   "metadata": {},
   "outputs": [
    {
     "name": "stdout",
     "output_type": "stream",
     "text": [
      "Your inverse number is 0.2\n",
      "The length of the hypotenuse is 7.0710678118654755\n"
     ]
    }
   ],
   "source": [
    "#inverse function\n",
    "og_num = input(\"What number would you like to invert?: \")\n",
    "og_num =  float(og_num)\n",
    "inverse_num = 1 / og_num\n",
    "print(\"Your inverse number is \" + str(inverse_num))\n",
    "\n",
    "#hypotenuse function\n",
    "side_1 = input(\"What is the length of side 1?: \")\n",
    "side_1 = float(side_1)\n",
    "side_2 = input(\"What is the length of side 2?: \")\n",
    "side_2 = float(side_2)\n",
    "hypot = math.hypot(side_1, side_2)\n",
    "print(\"The length of the hypotenuse is \" + str(hypot))\n"
   ]
  },
  {
   "cell_type": "markdown",
   "metadata": {},
   "source": [
    "# hw1pr3.py\n",
    "### Name: Evie De Rossi\n",
    "### Date: 1/19/24\n",
    "in this file, you should create your own Mad Libs game. (If you're not\n",
    "familiar with Mad Libs, see https://madtakes.com/ for examples!)"
   ]
  },
  {
   "cell_type": "code",
   "execution_count": null,
   "metadata": {},
   "outputs": [],
   "source": [
    "    #Rules:\n",
    "    #- You must ask for at least 5 inputs\n",
    "    #- One of those inputs should be for a number\n",
    "    #- You must use all inputs in a story\n",
    "    #Remember to comment your code!"
   ]
  },
  {
   "cell_type": "code",
   "execution_count": 9,
   "metadata": {},
   "outputs": [
    {
     "name": "stdout",
     "output_type": "stream",
     "text": [
      "Thanks for your answers. Here is your finished MadLib Game: \n",
      "Once upon a guitar, there was a princess who lived in a blue castle on top of a octopus.\n",
      "One day, the princes went to San Fransisco to go buy 69 presidential elections.\n",
      "Then she went back to her bluecastle on the octopus.\n",
      "And she lived swimmingly ever after.\n"
     ]
    }
   ],
   "source": [
    "#asking for all of the inputs\n",
    "noun = input(\"Please input a singular noun: \")\n",
    "adjective = input(\"Please input an adjective: \")\n",
    "noun_2 = input(\"Please input a singular noun: \")\n",
    "place = input(\"Please input a place: \")\n",
    "number = input (\"Please input a number greater than 1: \")\n",
    "noun3 = input (\"Please input a plural noun: \")\n",
    "adverb = input (\"Please input an adverb: \")\n",
    "\n",
    "\n",
    "#the  mad lib story\n",
    "print(\"Thanks for your answers. Here is your finished MadLib Game: \")\n",
    "print(\"Once upon a \" + noun + \", there was a princess who lived in a \" + adjective + \" castle on top of a \" + noun_2 + \".\")\n",
    "print(\"One day, the princess went to \" + place + \" to go buy \" + number + \" \" + noun3 + \".\")\n",
    "print(\"Then she went back to her \" + adjective + \" castle on the \" + noun_2 + \".\")\n",
    "print(\"And she lived \" + adverb + \" ever after.\")"
   ]
  }
 ],
 "metadata": {
  "kernelspec": {
   "display_name": "Python 3",
   "language": "python",
   "name": "python3"
  },
  "language_info": {
   "codemirror_mode": {
    "name": "ipython",
    "version": 3
   },
   "file_extension": ".py",
   "mimetype": "text/x-python",
   "name": "python",
   "nbconvert_exporter": "python",
   "pygments_lexer": "ipython3",
   "version": "3.12.1"
  }
 },
 "nbformat": 4,
 "nbformat_minor": 2
}
